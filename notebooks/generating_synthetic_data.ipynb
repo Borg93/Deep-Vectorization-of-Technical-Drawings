{
 "cells": [
  {
   "cell_type": "code",
   "execution_count": 1,
   "id": "spare-workstation",
   "metadata": {},
   "outputs": [],
   "source": [
    "import argparse\n",
    "import sys\n",
    "sys.path.append(\"../\")\n",
    "from cleaning.utils.synthetic_data_generation import Synthetic\n",
    "from tqdm import tqdm\n"
   ]
  },
  {
   "cell_type": "code",
   "execution_count": 2,
   "id": "editorial-audio",
   "metadata": {},
   "outputs": [],
   "source": [
    "img_path = \"/data/Synthetic/\"\n",
    "data_count = 5\n",
    "data_count_start = 0\n",
    "backgrouds_path='/data/Background/*.png'"
   ]
  },
  {
   "cell_type": "code",
   "execution_count": 3,
   "id": "planned-flesh",
   "metadata": {},
   "outputs": [
    {
     "name": "stderr",
     "output_type": "stream",
     "text": [
      "100%|██████████| 5/5 [00:09<00:00,  1.80s/it]\n"
     ]
    }
   ],
   "source": [
    "syn = Synthetic()\n",
    "for it in tqdm(range(data_count_start, data_count)):\n",
    "    syn.get_image(img_path=img_path, name=str(it),backgrouds_path=backgrouds_path)"
   ]
  },
  {
   "cell_type": "code",
   "execution_count": null,
   "id": "stainless-console",
   "metadata": {},
   "outputs": [],
   "source": []
  }
 ],
 "metadata": {
  "kernelspec": {
   "display_name": "Python 3",
   "language": "python",
   "name": "python3"
  },
  "language_info": {
   "codemirror_mode": {
    "name": "ipython",
    "version": 3
   },
   "file_extension": ".py",
   "mimetype": "text/x-python",
   "name": "python",
   "nbconvert_exporter": "python",
   "pygments_lexer": "ipython3",
   "version": "3.8.5"
  }
 },
 "nbformat": 4,
 "nbformat_minor": 5
}
