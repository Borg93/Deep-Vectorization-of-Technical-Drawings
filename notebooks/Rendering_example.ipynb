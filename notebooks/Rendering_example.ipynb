{
 "cells": [
  {
   "cell_type": "code",
   "execution_count": 1,
   "metadata": {},
   "outputs": [],
   "source": [
    "import numpy as np\n",
    "import os\n",
    "%load_ext autoreload\n",
    "%autoreload 2\n",
    "from PIL import Image \n",
    "from IPython.display import clear_output\n",
    "from matplotlib.pyplot import imshow \n",
    "import matplotlib.pyplot as plt\n",
    "import PIL\n",
    "import torch\n",
    "import pandas as pd\n",
    "%matplotlib inline"
   ]
  },
  {
   "cell_type": "markdown",
   "metadata": {},
   "source": [
    "### Add path to project "
   ]
  },
  {
   "cell_type": "code",
   "execution_count": 2,
   "metadata": {},
   "outputs": [],
   "source": [
    "import sys\n",
    "sys.path\n",
    "sys.path.append('/code/Deep-Vectorization-of-Technical-Drawings/')"
   ]
  },
  {
   "cell_type": "code",
   "execution_count": 3,
   "metadata": {},
   "outputs": [],
   "source": [
    "from util_files.rendering.cairo  import render,render_with_skeleton\n",
    "from util_files.data.graphics_primitives import PT_LINE,  PT_CBEZIER, PT_QBEZIER"
   ]
  },
  {
   "cell_type": "code",
   "execution_count": 4,
   "metadata": {},
   "outputs": [],
   "source": [
    "# Lets make for example 3 random quadratic bezier and 2 lines from interval (0,1)"
   ]
  },
  {
   "cell_type": "code",
   "execution_count": 5,
   "metadata": {},
   "outputs": [],
   "source": [
    "curves  = np.random.rand(3,6)\n",
    "curve_width = np.random.rand(3)*7 # (to make width from 0 to 7 pixel )\n",
    "\n",
    "lines  = np.random.rand(3,4)\n",
    "lines_width = np.random.rand(3)*7 # (to make width from 0 to 7 pixel )"
   ]
  },
  {
   "cell_type": "code",
   "execution_count": 6,
   "metadata": {},
   "outputs": [],
   "source": [
    "# define canvas dimensions"
   ]
  },
  {
   "cell_type": "code",
   "execution_count": 7,
   "metadata": {},
   "outputs": [],
   "source": [
    "dimensions = 128"
   ]
  },
  {
   "cell_type": "code",
   "execution_count": 8,
   "metadata": {},
   "outputs": [],
   "source": [
    "# make your coordinates from (0,1) to bounded by canvas size "
   ]
  },
  {
   "cell_type": "code",
   "execution_count": 9,
   "metadata": {},
   "outputs": [],
   "source": [
    "curves = curves *dimensions\n",
    "lines  = lines *dimensions"
   ]
  },
  {
   "cell_type": "code",
   "execution_count": 10,
   "metadata": {},
   "outputs": [],
   "source": [
    "#concatenate curves parameter and curve with(curve with as last paraqmeter)"
   ]
  },
  {
   "cell_type": "code",
   "execution_count": 11,
   "metadata": {},
   "outputs": [
    {
     "data": {
      "text/plain": [
       "(3, 7)"
      ]
     },
     "execution_count": 11,
     "metadata": {},
     "output_type": "execute_result"
    }
   ],
   "source": [
    "np.concatenate((curves, curve_width[...,None]),axis=1).shape"
   ]
  },
  {
   "cell_type": "code",
   "execution_count": 12,
   "metadata": {},
   "outputs": [],
   "source": [
    "# Define dictionary with ptimitives (PT_LINE, PT_QBEZIER)"
   ]
  },
  {
   "cell_type": "code",
   "execution_count": 13,
   "metadata": {},
   "outputs": [],
   "source": [
    "a ={PT_QBEZIER:np.concatenate((curves , curve_width[...,None]),axis=1),PT_LINE:np.concatenate((lines, lines_width[...,None]),axis=1)}"
   ]
  },
  {
   "cell_type": "code",
   "execution_count": 14,
   "metadata": {},
   "outputs": [],
   "source": [
    "# To render image call render or render_with_skeleton function from util_files.rendering.cairo \n"
   ]
  },
  {
   "cell_type": "code",
   "execution_count": 15,
   "metadata": {},
   "outputs": [],
   "source": [
    "rendered_image = render(a,(dimensions,dimensions), data_representation='vahe',linecaps='round')\n",
    "#For primitives format (number_priimtives,primitive_params), data_representation should be vahe.\n",
    "#You could alsoo render if format"
   ]
  },
  {
   "cell_type": "code",
   "execution_count": 16,
   "metadata": {},
   "outputs": [
    {
     "data": {
      "text/plain": [
       "<matplotlib.image.AxesImage at 0x7ff565bbe0a0>"
      ]
     },
     "execution_count": 16,
     "metadata": {},
     "output_type": "execute_result"
    },
    {
     "data": {
      "image/png": "[encoded data removed]",
      "text/plain": [
       "<Figure size 432x288 with 1 Axes>"
      ]
     },
     "metadata": {
      "needs_background": "light"
     },
     "output_type": "display_data"
    }
   ],
   "source": [
    "plt.imshow(rendered_image,'gray')"
   ]
  },
  {
   "cell_type": "code",
   "execution_count": 17,
   "metadata": {},
   "outputs": [
    {
     "name": "stdout",
     "output_type": "stream",
     "text": [
      "[[123.01136544  74.5437417    7.06895402   9.15565792   9.9303255\n",
      "   13.10963039]\n",
      " [ 32.95561325 102.88623205  49.84756437 113.90026452  92.90383352\n",
      "  123.88636104]\n",
      " [116.3178965   28.07706994  99.4028496   11.89533935  20.03178741\n",
      "    7.81802404]] [6.08188905 2.17225351 5.59328349]\n"
     ]
    }
   ],
   "source": [
    "print(curves, curve_width)"
   ]
  },
  {
   "cell_type": "code",
   "execution_count": 18,
   "metadata": {},
   "outputs": [
    {
     "name": "stdout",
     "output_type": "stream",
     "text": [
      "[[ 32.47418791   8.49104389  93.21203732 127.65948517]\n",
      " [116.84418655  97.30723457 103.92784001  97.76227435]\n",
      " [120.2988547   45.27638051  63.61621008  37.87318269]] [3.95981852 4.5318874  6.63791494]\n"
     ]
    }
   ],
   "source": [
    "print(lines, lines_width)"
   ]
  }
 ],
 "metadata": {
  "kernelspec": {
   "display_name": "Python 3",
   "language": "python",
   "name": "python3"
  },
  "language_info": {
   "codemirror_mode": {
    "name": "ipython",
    "version": 3
   },
   "file_extension": ".py",
   "mimetype": "text/x-python",
   "name": "python",
   "nbconvert_exporter": "python",
   "pygments_lexer": "ipython3",
   "version": "3.8.5"
  }
 },
 "nbformat": 4,
 "nbformat_minor": 2
}
