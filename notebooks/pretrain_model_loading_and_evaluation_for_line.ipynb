{
 "cells": [
  {
   "cell_type": "code",
   "execution_count": 1,
   "metadata": {},
   "outputs": [],
   "source": [
    "import numpy as np\n",
    "import torch as th\n",
    "import os\n",
    "%load_ext autoreload\n",
    "%autoreload 2\n",
    "from PIL import Image \n",
    "from IPython.display import clear_output\n",
    "from matplotlib.pyplot import imshow \n",
    "import matplotlib.pyplot as plt\n",
    "import PIL\n",
    "import torch\n",
    "\n",
    "from itertools import islice\n",
    "from torchvision.transforms.functional import to_tensor\n",
    "\n",
    "import pandas as pd\n",
    "from torchvision import transforms\n",
    "from itertools import product\n",
    "%matplotlib inline"
   ]
  },
  {
   "cell_type": "markdown",
   "metadata": {},
   "source": [
    "# Add path to project "
   ]
  },
  {
   "cell_type": "code",
   "execution_count": 2,
   "metadata": {},
   "outputs": [],
   "source": [
    "import sys\n",
    "sys.path\n",
    "sys.path.append('/code/Deep-Vectorization-of-Technical-Drawings/')"
   ]
  },
  {
   "cell_type": "code",
   "execution_count": 3,
   "metadata": {},
   "outputs": [],
   "source": [
    "from util_files.rendering.cairo  import render,render_with_skeleton\n",
    "from util_files.data.graphics_primitives import PT_LINE,  PT_CBEZIER, PT_QBEZIER\n",
    "import  util_files.loss_functions.supervised  as supervised_loss \n",
    "from util_files.optimization.optimizer.scheduled_optimizer import ScheduledOptimizer\n",
    "import util_files.dataloading as dataloading\n",
    "from vectorization import load_model\n",
    "from util_files.patchify import patchify\n",
    "from util_files.geometric import liang_barsky_screen"
   ]
  },
  {
   "cell_type": "markdown",
   "metadata": {},
   "source": [
    "# Parameters"
   ]
  },
  {
   "cell_type": "code",
   "execution_count": 4,
   "metadata": {},
   "outputs": [],
   "source": [
    "device = torch.device('cuda:{}'.format(0))\n",
    "prefetch_data = True\n",
    "batches_completed_in_epoch=0\n",
    "epoch_size = 20000\n",
    "curve_count = 10\n",
    "model_type = \"model\""
   ]
  },
  {
   "cell_type": "code",
   "execution_count": 5,
   "metadata": {},
   "outputs": [],
   "source": [
    "import sys; sys.argv=['']; del sys\n",
    "import argparse\n",
    "\n",
    "def parse_args():\n",
    "    parser = argparse.ArgumentParser()\n",
    "    parser.add_argument('--output_dir', type=str, default=\"/logs/outputs/vectorization/lines/\", help='dir to folder for output')\n",
    "    parser.add_argument('--diff_render_it', type=int, default=300, help='iteration count')\n",
    "    parser.add_argument('--init_random', action='store_true', default=False, dest='init_random',\n",
    "                        help='init model with random [default: False].')\n",
    "    parser.add_argument('--rendering_type', type=str, default='hard', help='hard -oleg,simple Alexey')\n",
    "    parser.add_argument('--data_dir', type=str, default=\"/data/pfp_png_svg/png/\", help='dir to folder for input')\n",
    "    parser.add_argument('--image_name', type=str, default=\"0je59lh49edt9eb8hnd.png\",\n",
    "                        help='Name of image.If None will perform to all images in '\n",
    "                             'folder.[default: None]')\n",
    "    parser.add_argument('--overlap', type=int, default=0, help='overlap in pixel')\n",
    "    parser.add_argument('--model_output_count', type=int, default=10, help='max_model_output')\n",
    "    parser.add_argument('--max_angle_to_connect', type=int, default=10, help='max_angle_to_connect in pixel')\n",
    "    parser.add_argument('--max_distance_to_connect', type=int, default=3, help='max_distance_to_connect in pixel')\n",
    "    return parser.parse_args()"
   ]
  },
  {
   "cell_type": "code",
   "execution_count": 6,
   "metadata": {},
   "outputs": [],
   "source": [
    "options = parse_args()"
   ]
  },
  {
   "cell_type": "markdown",
   "metadata": {},
   "source": [
    "# Read image/dataset"
   ]
  },
  {
   "cell_type": "code",
   "execution_count": 7,
   "metadata": {},
   "outputs": [],
   "source": [
    "def preprocess_image(image):\n",
    "    patch_height, patch_width = image.shape[1:3]\n",
    "    image = torch.as_tensor(image).type(torch.float32).reshape(-1, patch_height, patch_width) / 255\n",
    "    image = 1 - image  # 0 -- background\n",
    "    mask = (image > 0).type(torch.float32)\n",
    "    _xs = np.arange(1, patch_width + 1, dtype=np.float32)[None].repeat(patch_height, 0) / patch_width\n",
    "    _ys = np.arange(1, patch_height + 1, dtype=np.float32)[..., None].repeat(patch_width, 1) / patch_height\n",
    "    _xs = torch.from_numpy(_xs)[None]\n",
    "    _ys = torch.from_numpy(_ys)[None]\n",
    "    return torch.stack([image, _xs * mask, _ys * mask], dim=1)"
   ]
  },
  {
   "cell_type": "code",
   "execution_count": 8,
   "metadata": {},
   "outputs": [],
   "source": [
    "def read_data(options, image_type = 'RGB'):\n",
    "    train_transform = transforms.Compose([\n",
    "        transforms.ToTensor(),\n",
    "    ])\n",
    "    dataset = []\n",
    "    if options.image_name is None:\n",
    "        image_names = os.listdir(options.data_dir)\n",
    "        print(image_names)\n",
    "        for image_name in image_names:\n",
    "            if (image_name[-4:] != 'jpeg' and image_name[-3:] != 'png' and image_name[-3:] != 'jpg') or image_name[0]=='.':\n",
    "                print(image_name[-4:])\n",
    "                continue\n",
    "            \n",
    "            img = train_transform(Image.open(options.data_dir + image_name).convert(image_type))\n",
    "            print(img.shape)\n",
    "            img_t = torch.ones(img.shape[0], img.shape[1] + (32 - img.shape[1] % 32),\n",
    "                               img.shape[2] + (32 - img.shape[2] % 32))\n",
    "            img_t[:, :img.shape[1], :img.shape[2]] = img\n",
    "            dataset.append(img_t)\n",
    "        options.image_name = image_names\n",
    "    else:\n",
    "        img = train_transform(Image.open(options.data_dir + options.image_name).convert(image_type))\n",
    "        print(img.shape)\n",
    "        img_t = torch.ones(img.shape[0], img.shape[1] + (32 - img.shape[1] % 32),\n",
    "                           img.shape[2] + (32 - img.shape[2] % 32))\n",
    "        img_t[:, :img.shape[1], :img.shape[2]] = img\n",
    "        dataset.append(img_t)\n",
    "        options.image_name = [options.image_name]\n",
    "\n",
    "    return dataset"
   ]
  },
  {
   "cell_type": "code",
   "execution_count": 9,
   "metadata": {},
   "outputs": [
    {
     "name": "stdout",
     "output_type": "stream",
     "text": [
      "torch.Size([1, 3300, 2550])\n"
     ]
    }
   ],
   "source": [
    "images = read_data(options,image_type='L')"
   ]
  },
  {
   "cell_type": "code",
   "execution_count": 10,
   "metadata": {},
   "outputs": [],
   "source": [
    "image = images[0]"
   ]
  },
  {
   "cell_type": "code",
   "execution_count": 11,
   "metadata": {},
   "outputs": [
    {
     "data": {
      "text/plain": [
       "<matplotlib.image.AxesImage at 0x7f4f88a40160>"
      ]
     },
     "execution_count": 11,
     "metadata": {},
     "output_type": "execute_result"
    },
    {
     "data": {
      "image/png": "[encoded data removed]",
      "text/plain": [
       "<Figure size 864x576 with 1 Axes>"
      ]
     },
     "metadata": {
      "needs_background": "light"
     },
     "output_type": "display_data"
    }
   ],
   "source": [
    "plt.figure(figsize=(12,8))\n",
    "plt.imshow(image[0],'gray')"
   ]
  },
  {
   "cell_type": "code",
   "execution_count": 12,
   "metadata": {},
   "outputs": [
    {
     "data": {
      "text/plain": [
       "tensor([[[1., 1., 1.,  ..., 1., 1., 1.],\n",
       "         [1., 1., 1.,  ..., 1., 1., 1.],\n",
       "         [1., 1., 1.,  ..., 1., 1., 1.],\n",
       "         ...,\n",
       "         [1., 1., 1.,  ..., 1., 1., 1.],\n",
       "         [1., 1., 1.,  ..., 1., 1., 1.],\n",
       "         [1., 1., 1.,  ..., 1., 1., 1.]]])"
      ]
     },
     "execution_count": 12,
     "metadata": {},
     "output_type": "execute_result"
    }
   ],
   "source": [
    "image"
   ]
  },
  {
   "cell_type": "markdown",
   "metadata": {},
   "source": [
    "# Model loading "
   ]
  },
  {
   "cell_type": "code",
   "execution_count": 13,
   "metadata": {},
   "outputs": [],
   "source": [
    "# in json file you can chose model type and it's parameters as in examples in vectorization/models/specs/ folder"
   ]
  },
  {
   "cell_type": "code",
   "execution_count": 14,
   "metadata": {},
   "outputs": [],
   "source": [
    "# chose json file \n",
    "model_json_param = '/code/Deep-Vectorization-of-Technical-Drawings/vectorization/models/specs/resnet18_blocks3_bn_256__c2h__trans_heads4_feat256_blocks4_ffmaps512__h2o__out512.json'\n",
    "#load/create model \n",
    "model = load_model(model_json_param).to(device)"
   ]
  },
  {
   "cell_type": "code",
   "execution_count": 18,
   "metadata": {},
   "outputs": [
    {
     "data": {
      "text/plain": [
       "<All keys matched successfully>"
      ]
     },
     "execution_count": 18,
     "metadata": {},
     "output_type": "execute_result"
    }
   ],
   "source": [
    "def serialize(checkpoint):\n",
    "    model_state_dict = checkpoint['model_state_dict']\n",
    "    keys = []\n",
    "    for k in model_state_dict:\n",
    "        if 'hidden.transformer' in k:\n",
    "            keys.append(k)\n",
    "\n",
    "    for k in keys:\n",
    "        new_key = 'hidden.decoder.transformer' + k[len('hidden.transformer'):]\n",
    "        model_state_dict[new_key] = model_state_dict[k]\n",
    "        del model_state_dict[k]\n",
    "    return checkpoint\n",
    "checkpoint = serialize(torch.load(\"/logs/models/vectorization/lines/model_lines.weights\"))\n",
    "\n",
    "\n",
    "model.load_state_dict(checkpoint['model_state_dict'])"
   ]
  },
  {
   "cell_type": "markdown",
   "metadata": {},
   "source": [
    "# Estimation of primitive "
   ]
  },
  {
   "cell_type": "code",
   "execution_count": 19,
   "metadata": {},
   "outputs": [],
   "source": [
    "def split_to_patches(rgb, patch_size, overlap=0):\n",
    "    \"\"\"Separates the input into square patches of specified size.\n",
    "\n",
    "    :param rgb: input RGB image\n",
    "    :type rgb: numpy.ndarray\n",
    "    :param patch_size: size of patches in pixels (assuming\n",
    "                        square patches)\n",
    "    :type patch_size: int\n",
    "    :param overlap: amount in pixels of how much the patches\n",
    "                    can overlap with each other (useful for merging)\n",
    "    :type overlap: int\n",
    "\n",
    "    :returns patches, patches_offsets\n",
    "    :rtype Tuple[numpy.ndarray, numpy.ndarray]\n",
    "    \"\"\"\n",
    "    rgb = rgb.transpose(1, 2, 0)\n",
    "    rgb_t = np.ones((rgb.shape[0] + 33, rgb.shape[1] + 33, rgb.shape[2])) * 255.\n",
    "    rgb_t[:rgb.shape[0], :rgb.shape[1], :] = rgb\n",
    "    rgb = rgb_t\n",
    "\n",
    "    height, width, channels = rgb.shape\n",
    "\n",
    "    assert patch_size > 0 and 0 <= overlap < patch_size\n",
    "    patches = patchify(rgb,\n",
    "                       patch_size=(patch_size, patch_size, channels),\n",
    "                       step=patch_size - overlap)\n",
    "    patches = patches.reshape((-1, patch_size, patch_size, channels))\n",
    "    height_offsets = np.arange(0, height - patch_size, step=patch_size - overlap)\n",
    "    width_offsets = np.arange(0, width - patch_size, step=patch_size - overlap)\n",
    "    patches_offsets = np.array(list(\n",
    "        product(height_offsets, width_offsets)\n",
    "    ))\n",
    "    return patches, patches_offsets, rgb"
   ]
  },
  {
   "cell_type": "code",
   "execution_count": 20,
   "metadata": {},
   "outputs": [
    {
     "name": "stderr",
     "output_type": "stream",
     "text": [
      "/opt/.venv/vect-env/lib/python3.8/site-packages/sklearn/linear_model/least_angle.py:30: DeprecationWarning: `np.float` is a deprecated alias for the builtin `float`. To silence this warning, use `float` by itself. Doing this will not modify any behavior and is safe. If you specifically wanted the numpy scalar type, use `np.float64` here.\n",
      "Deprecated in NumPy 1.20; for more details and guidance: https://numpy.org/devdocs/release/1.20.0-notes.html#deprecations\n",
      "  method='lar', copy_X=True, eps=np.finfo(np.float).eps,\n",
      "/opt/.venv/vect-env/lib/python3.8/site-packages/sklearn/linear_model/least_angle.py:167: DeprecationWarning: `np.float` is a deprecated alias for the builtin `float`. To silence this warning, use `float` by itself. Doing this will not modify any behavior and is safe. If you specifically wanted the numpy scalar type, use `np.float64` here.\n",
      "Deprecated in NumPy 1.20; for more details and guidance: https://numpy.org/devdocs/release/1.20.0-notes.html#deprecations\n",
      "  method='lar', copy_X=True, eps=np.finfo(np.float).eps,\n",
      "/opt/.venv/vect-env/lib/python3.8/site-packages/sklearn/linear_model/least_angle.py:284: DeprecationWarning: `np.float` is a deprecated alias for the builtin `float`. To silence this warning, use `float` by itself. Doing this will not modify any behavior and is safe. If you specifically wanted the numpy scalar type, use `np.float64` here.\n",
      "Deprecated in NumPy 1.20; for more details and guidance: https://numpy.org/devdocs/release/1.20.0-notes.html#deprecations\n",
      "  eps=np.finfo(np.float).eps, copy_Gram=True, verbose=0,\n",
      "/opt/.venv/vect-env/lib/python3.8/site-packages/sklearn/linear_model/least_angle.py:862: DeprecationWarning: `np.float` is a deprecated alias for the builtin `float`. To silence this warning, use `float` by itself. Doing this will not modify any behavior and is safe. If you specifically wanted the numpy scalar type, use `np.float64` here.\n",
      "Deprecated in NumPy 1.20; for more details and guidance: https://numpy.org/devdocs/release/1.20.0-notes.html#deprecations\n",
      "  eps=np.finfo(np.float).eps, copy_X=True, fit_path=True,\n",
      "/opt/.venv/vect-env/lib/python3.8/site-packages/sklearn/linear_model/least_angle.py:1101: DeprecationWarning: `np.float` is a deprecated alias for the builtin `float`. To silence this warning, use `float` by itself. Doing this will not modify any behavior and is safe. If you specifically wanted the numpy scalar type, use `np.float64` here.\n",
      "Deprecated in NumPy 1.20; for more details and guidance: https://numpy.org/devdocs/release/1.20.0-notes.html#deprecations\n",
      "  eps=np.finfo(np.float).eps, copy_X=True, fit_path=True,\n",
      "/opt/.venv/vect-env/lib/python3.8/site-packages/sklearn/linear_model/least_angle.py:1127: DeprecationWarning: `np.float` is a deprecated alias for the builtin `float`. To silence this warning, use `float` by itself. Doing this will not modify any behavior and is safe. If you specifically wanted the numpy scalar type, use `np.float64` here.\n",
      "Deprecated in NumPy 1.20; for more details and guidance: https://numpy.org/devdocs/release/1.20.0-notes.html#deprecations\n",
      "  eps=np.finfo(np.float).eps, positive=False):\n",
      "/opt/.venv/vect-env/lib/python3.8/site-packages/sklearn/linear_model/least_angle.py:1362: DeprecationWarning: `np.float` is a deprecated alias for the builtin `float`. To silence this warning, use `float` by itself. Doing this will not modify any behavior and is safe. If you specifically wanted the numpy scalar type, use `np.float64` here.\n",
      "Deprecated in NumPy 1.20; for more details and guidance: https://numpy.org/devdocs/release/1.20.0-notes.html#deprecations\n",
      "  max_n_alphas=1000, n_jobs=None, eps=np.finfo(np.float).eps,\n",
      "/opt/.venv/vect-env/lib/python3.8/site-packages/sklearn/linear_model/least_angle.py:1602: DeprecationWarning: `np.float` is a deprecated alias for the builtin `float`. To silence this warning, use `float` by itself. Doing this will not modify any behavior and is safe. If you specifically wanted the numpy scalar type, use `np.float64` here.\n",
      "Deprecated in NumPy 1.20; for more details and guidance: https://numpy.org/devdocs/release/1.20.0-notes.html#deprecations\n",
      "  max_n_alphas=1000, n_jobs=None, eps=np.finfo(np.float).eps,\n",
      "/opt/.venv/vect-env/lib/python3.8/site-packages/sklearn/linear_model/least_angle.py:1738: DeprecationWarning: `np.float` is a deprecated alias for the builtin `float`. To silence this warning, use `float` by itself. Doing this will not modify any behavior and is safe. If you specifically wanted the numpy scalar type, use `np.float64` here.\n",
      "Deprecated in NumPy 1.20; for more details and guidance: https://numpy.org/devdocs/release/1.20.0-notes.html#deprecations\n",
      "  eps=np.finfo(np.float).eps, copy_X=True, positive=False):\n",
      "/opt/.venv/vect-env/lib/python3.8/site-packages/sklearn/feature_extraction/image.py:167: DeprecationWarning: `np.int` is a deprecated alias for the builtin `int`. To silence this warning, use `int` by itself. Doing this will not modify any behavior and is safe. When replacing `np.int`, you may wish to use e.g. `np.int64` or `np.int32` to specify the precision. If you wish to review your current use, check the release note link for additional information.\n",
      "Deprecated in NumPy 1.20; for more details and guidance: https://numpy.org/devdocs/release/1.20.0-notes.html#deprecations\n",
      "  dtype=np.int):\n"
     ]
    }
   ],
   "source": [
    "from merging.utils.merging_functions import tensor_vector_graph_numpy,assemble_vector_patches_lines,save_svg,clip_to_box"
   ]
  },
  {
   "cell_type": "code",
   "execution_count": 21,
   "metadata": {},
   "outputs": [],
   "source": [
    "image_tensor = image.unsqueeze(0).to(device)\n",
    "patches_rgb, patches_offsets, input_rgb = split_to_patches(image_tensor.cpu().numpy()[0] * 255, 64, options.overlap)"
   ]
  },
  {
   "cell_type": "code",
   "execution_count": 22,
   "metadata": {},
   "outputs": [
    {
     "name": "stdout",
     "output_type": "stream",
     "text": [
      "--- Preprocessing BEGIN\n",
      "--- Preprocessing END\n"
     ]
    }
   ],
   "source": [
    "model.eval()\n",
    "patches_vector = []\n",
    "print('--- Preprocessing BEGIN')\n",
    "patch_images = preprocess_image(patches_rgb)\n",
    "print('--- Preprocessing END')\n",
    "\n",
    "for it_batches in range(400, patch_images.shape[0] + 399, 400):\n",
    "    it_start = it_batches - 400\n",
    "    if it_batches > patch_images.shape[0]:\n",
    "        it_batches = patch_images.shape[0]\n",
    "    with torch.no_grad():\n",
    "        if(it_start==0):\n",
    "            patches_vector = model(patch_images[it_start:it_batches].cuda().float(), options.model_output_count).detach().cpu().numpy()\n",
    "        else:\n",
    "            patches_vector = np.concatenate((patches_vector,model(patch_images[it_start:it_batches].cuda().float(), options.model_output_count).detach().cpu().numpy()),axis=0)\n",
    "patches_vector = torch.tensor(patches_vector) * 64"
   ]
  },
  {
   "cell_type": "code",
   "execution_count": 23,
   "metadata": {},
   "outputs": [
    {
     "name": "stderr",
     "output_type": "stream",
     "text": [
      "<ipython-input-23-37adbe393be9>:1: UserWarning: To copy construct from a tensor, it is recommended to use sourceTensor.clone().detach() or sourceTensor.clone().detach().requires_grad_(True), rather than torch.tensor(sourceTensor).\n",
      "  rendered_image = save_svg(tensor_vector_graph_numpy(torch.tensor(patches_vector), patches_offsets, options), image_tensor.shape[1:],\n",
      "/code/Deep-Vectorization-of-Technical-Drawings/util_files/geometric.py:39: RuntimeWarning: divide by zero encountered in double_scalars\n",
      "  r = q / p\n",
      "/code/Deep-Vectorization-of-Technical-Drawings/util_files/geometric.py:39: RuntimeWarning: invalid value encountered in double_scalars\n",
      "  r = q / p\n"
     ]
    }
   ],
   "source": [
    "rendered_image = save_svg(tensor_vector_graph_numpy(torch.tensor(patches_vector), patches_offsets, options), image_tensor.shape[1:],\n",
    "             options.image_name[0], options.output_dir + 'model_output/')"
   ]
  },
  {
   "cell_type": "code",
   "execution_count": 24,
   "metadata": {},
   "outputs": [
    {
     "data": {
      "text/plain": [
       "<matplotlib.image.AxesImage at 0x7f4f71263910>"
      ]
     },
     "execution_count": 24,
     "metadata": {},
     "output_type": "execute_result"
    },
    {
     "data": {
      "image/png": "[encoded data removed]",
      "text/plain": [
       "<Figure size 864x576 with 1 Axes>"
      ]
     },
     "metadata": {
      "needs_background": "light"
     },
     "output_type": "display_data"
    }
   ],
   "source": [
    "plt.figure(figsize=(12,8))\n",
    "plt.imshow(rendered_image,\"gray\")"
   ]
  },
  {
   "cell_type": "code",
   "execution_count": 25,
   "metadata": {},
   "outputs": [],
   "source": [
    "plt.imsave(options.output_dir + 'model_output/'+ options.image_name[0],rendered_image)"
   ]
  },
  {
   "cell_type": "markdown",
   "metadata": {},
   "source": [
    "# Refinement "
   ]
  },
  {
   "cell_type": "code",
   "execution_count": 26,
   "metadata": {
    "scrolled": false
   },
   "outputs": [
    {
     "name": "stderr",
     "output_type": "stream",
     "text": [
      "/code/Deep-Vectorization-of-Technical-Drawings/refinement/our_refinement/refinement_for_lines.py:18: UserWarning: To copy construct from a tensor, it is recommended to use sourceTensor.clone().detach() or sourceTensor.clone().detach().requires_grad_(True), rather than torch.tensor(sourceTensor).\n",
      "  patches_vector = torch.tensor(patches_vector)\n",
      "/code/Deep-Vectorization-of-Technical-Drawings/refinement/our_refinement/utils/lines_refinement_functions.py:88: UserWarning: This overload of add_ is deprecated:\n",
      "\tadd_(Number alpha, Tensor other)\n",
      "Consider using one of the following signatures instead:\n",
      "\tadd_(Tensor other, *, Number alpha) (Triggered internally at  /pytorch/torch/csrc/utils/python_arg_parser.cpp:882.)\n",
      "  exp_avg.mul_(beta1).add_(1 - beta1, grad)\n",
      "\r",
      "  0%|          | 0/300 [00:00<?, ?it/s]"
     ]
    },
    {
     "name": "stdout",
     "output_type": "stream",
     "text": [
      "init_random False\n"
     ]
    },
    {
     "name": "stderr",
     "output_type": "stream",
     "text": [
      "  6%|▋         | 19/300 [00:02<00:39,  7.04it/s]/code/Deep-Vectorization-of-Technical-Drawings/refinement/our_refinement/utils/lines_refinement_functions.py:936: UserWarning: Use of index_put_ on expanded tensors is deprecated. Please clone() the tensor before performing this operation. This also applies to advanced indexing e.g. tensor[indices] = tensor (Triggered internally at  /pytorch/aten/src/ATen/native/TensorAdvancedIndexing.cpp:300.)\n",
      "  length_this.data[close_width] = min_linear\n",
      "/code/Deep-Vectorization-of-Technical-Drawings/refinement/our_refinement/utils/lines_refinement_functions.py:937: UserWarning: Use of index_put_ on expanded tensors is deprecated. Please clone() the tensor before performing this operation. This also applies to advanced indexing e.g. tensor[indices] = tensor (Triggered internally at  /pytorch/aten/src/ATen/native/TensorAdvancedIndexing.cpp:300.)\n",
      "  width_this.data[close_width] = min_linear\n",
      "/code/Deep-Vectorization-of-Technical-Drawings/refinement/our_refinement/utils/lines_refinement_functions.py:965: UserWarning: Use of index_put_ on expanded tensors is deprecated. Please clone() the tensor before performing this operation. This also applies to advanced indexing e.g. tensor[indices] = tensor (Triggered internally at  /pytorch/aten/src/ATen/native/TensorAdvancedIndexing.cpp:300.)\n",
      "  length_this.data[close_width] = min_linear\n",
      "/code/Deep-Vectorization-of-Technical-Drawings/refinement/our_refinement/utils/lines_refinement_functions.py:966: UserWarning: Use of index_put_ on expanded tensors is deprecated. Please clone() the tensor before performing this operation. This also applies to advanced indexing e.g. tensor[indices] = tensor (Triggered internally at  /pytorch/aten/src/ATen/native/TensorAdvancedIndexing.cpp:300.)\n",
      "  width_this.data[close_width] = min_linear\n",
      "/code/Deep-Vectorization-of-Technical-Drawings/refinement/our_refinement/utils/lines_refinement_functions.py:996: UserWarning: Use of index_put_ on expanded tensors is deprecated. Please clone() the tensor before performing this operation. This also applies to advanced indexing e.g. tensor[indices] = tensor (Triggered internally at  /pytorch/aten/src/ATen/native/TensorAdvancedIndexing.cpp:300.)\n",
      "  length_this.data[close_width] = min_linear\n",
      "/code/Deep-Vectorization-of-Technical-Drawings/refinement/our_refinement/utils/lines_refinement_functions.py:997: UserWarning: Use of index_put_ on expanded tensors is deprecated. Please clone() the tensor before performing this operation. This also applies to advanced indexing e.g. tensor[indices] = tensor (Triggered internally at  /pytorch/aten/src/ATen/native/TensorAdvancedIndexing.cpp:300.)\n",
      "  width_this.data[close_width] = min_linear\n",
      "/code/Deep-Vectorization-of-Technical-Drawings/refinement/our_refinement/utils/lines_refinement_functions.py:1025: UserWarning: Use of index_put_ on expanded tensors is deprecated. Please clone() the tensor before performing this operation. This also applies to advanced indexing e.g. tensor[indices] = tensor (Triggered internally at  /pytorch/aten/src/ATen/native/TensorAdvancedIndexing.cpp:300.)\n",
      "  length_this.data[close_width] = min_linear\n",
      "/code/Deep-Vectorization-of-Technical-Drawings/refinement/our_refinement/utils/lines_refinement_functions.py:1026: UserWarning: Use of index_put_ on expanded tensors is deprecated. Please clone() the tensor before performing this operation. This also applies to advanced indexing e.g. tensor[indices] = tensor (Triggered internally at  /pytorch/aten/src/ATen/native/TensorAdvancedIndexing.cpp:300.)\n",
      "  width_this.data[close_width] = min_linear\n",
      "100%|██████████| 300/300 [00:42<00:00,  7.07it/s]\n",
      "  0%|          | 0/300 [00:00<?, ?it/s]"
     ]
    },
    {
     "name": "stdout",
     "output_type": "stream",
     "text": [
      "0\n"
     ]
    },
    {
     "name": "stderr",
     "output_type": "stream",
     "text": [
      "100%|██████████| 300/300 [01:00<00:00,  4.95it/s]\n",
      "  0%|          | 0/300 [00:00<?, ?it/s]"
     ]
    },
    {
     "name": "stdout",
     "output_type": "stream",
     "text": [
      "300\n"
     ]
    },
    {
     "name": "stderr",
     "output_type": "stream",
     "text": [
      "100%|██████████| 300/300 [02:09<00:00,  2.32it/s]\n",
      "  0%|          | 0/300 [00:00<?, ?it/s]"
     ]
    },
    {
     "name": "stdout",
     "output_type": "stream",
     "text": [
      "600\n"
     ]
    },
    {
     "name": "stderr",
     "output_type": "stream",
     "text": [
      "100%|██████████| 300/300 [02:12<00:00,  2.27it/s]\n",
      "  0%|          | 0/300 [00:00<?, ?it/s]"
     ]
    },
    {
     "name": "stdout",
     "output_type": "stream",
     "text": [
      "900\n"
     ]
    },
    {
     "name": "stderr",
     "output_type": "stream",
     "text": [
      "100%|██████████| 300/300 [02:02<00:00,  2.44it/s]\n",
      "  0%|          | 0/300 [00:00<?, ?it/s]"
     ]
    },
    {
     "name": "stdout",
     "output_type": "stream",
     "text": [
      "1200\n"
     ]
    },
    {
     "name": "stderr",
     "output_type": "stream",
     "text": [
      "100%|██████████| 300/300 [00:55<00:00,  5.44it/s]\n",
      "  0%|          | 0/300 [00:00<?, ?it/s]"
     ]
    },
    {
     "name": "stdout",
     "output_type": "stream",
     "text": [
      "1500\n"
     ]
    },
    {
     "name": "stderr",
     "output_type": "stream",
     "text": [
      "100%|██████████| 300/300 [00:47<00:00,  6.34it/s]"
     ]
    },
    {
     "name": "stdout",
     "output_type": "stream",
     "text": [
      "1800\n"
     ]
    },
    {
     "name": "stderr",
     "output_type": "stream",
     "text": [
      "\n"
     ]
    }
   ],
   "source": [
    "from refinement.our_refinement.refinement_for_lines import render_optimization_hard\n",
    "vector_after_opt = render_optimization_hard(patches_rgb, patches_vector, device, options, options.image_name[0])"
   ]
  },
  {
   "cell_type": "code",
   "execution_count": 27,
   "metadata": {},
   "outputs": [],
   "source": [
    "rendered_image_opt= save_svg(tensor_vector_graph_numpy(vector_after_opt, patches_offsets, options), image.shape[1:],\n",
    "         options.image_name[0], options.output_dir + 'diff_rendering_output/')"
   ]
  },
  {
   "cell_type": "code",
   "execution_count": 28,
   "metadata": {},
   "outputs": [
    {
     "data": {
      "text/plain": [
       "<matplotlib.image.AxesImage at 0x7f4f710fec70>"
      ]
     },
     "execution_count": 28,
     "metadata": {},
     "output_type": "execute_result"
    },
    {
     "data": {
      "image/png": "[encoded data removed]",
      "text/plain": [
       "<Figure size 864x576 with 1 Axes>"
      ]
     },
     "metadata": {
      "needs_background": "light"
     },
     "output_type": "display_data"
    }
   ],
   "source": [
    "plt.figure(figsize=(12,8))\n",
    "plt.imshow(rendered_image_opt,\"gray\")"
   ]
  },
  {
   "cell_type": "markdown",
   "metadata": {},
   "source": [
    "# Merging patches into final image"
   ]
  },
  {
   "cell_type": "code",
   "execution_count": 29,
   "metadata": {},
   "outputs": [],
   "source": [
    "from merging.merging_for_lines import postprocess\n"
   ]
  },
  {
   "cell_type": "code",
   "execution_count": 30,
   "metadata": {},
   "outputs": [
    {
     "name": "stderr",
     "output_type": "stream",
     "text": [
      "100%|██████████| 1632/1632 [00:09<00:00, 168.04it/s]\n"
     ]
    }
   ],
   "source": [
    "merging_result, rendered_merged_image = postprocess(vector_after_opt,patches_offsets,input_rgb,image,0,options)"
   ]
  },
  {
   "cell_type": "code",
   "execution_count": 31,
   "metadata": {
    "pycharm": {
     "name": "#%%\n"
    }
   },
   "outputs": [
    {
     "data": {
      "text/plain": [
       "<matplotlib.image.AxesImage at 0x7f4f710b1100>"
      ]
     },
     "execution_count": 31,
     "metadata": {},
     "output_type": "execute_result"
    },
    {
     "data": {
      "image/png": "[encoded data removed]",
      "text/plain": [
       "<Figure size 864x576 with 1 Axes>"
      ]
     },
     "metadata": {
      "needs_background": "light"
     },
     "output_type": "display_data"
    }
   ],
   "source": [
    "plt.figure(figsize=(12,8))\n",
    "plt.imshow(rendered_merged_image,\"gray\")"
   ]
  }
 ],
 "metadata": {
  "kernelspec": {
   "display_name": "Python 3",
   "language": "python",
   "name": "python3"
  },
  "language_info": {
   "codemirror_mode": {
    "name": "ipython",
    "version": 3
   },
   "file_extension": ".py",
   "mimetype": "text/x-python",
   "name": "python",
   "nbconvert_exporter": "python",
   "pygments_lexer": "ipython3",
   "version": "3.8.5"
  }
 },
 "nbformat": 4,
 "nbformat_minor": 2
}